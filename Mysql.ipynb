{
 "cells": [
  {
   "cell_type": "markdown",
   "id": "bf2f683d-6e5f-453a-af0c-14100c11e7ce",
   "metadata": {},
   "source": [
    "# ESTABLECIENDO UNA CONEXION AL SGDB MySQL"
   ]
  },
  {
   "cell_type": "code",
   "execution_count": 1,
   "id": "4144a906-210e-4ea7-a4b9-913c08ba664d",
   "metadata": {},
   "outputs": [],
   "source": [
    "import mysql.connector"
   ]
  },
  {
   "cell_type": "code",
   "execution_count": 10,
   "id": "62e22e2a-9419-48bc-a5ec-f477770d1319",
   "metadata": {},
   "outputs": [
    {
     "name": "stdout",
     "output_type": "stream",
     "text": [
      "Conexion establecida correctamente.\n",
      "('information_schema',)\n",
      "('intelica',)\n",
      "Conexion finalizada correctamente.\n"
     ]
    }
   ],
   "source": [
    "mi_conexion = mysql.connector.connect(\n",
    "    host = \"38.123.204.196\",\n",
    "    user = \"intelite\",\n",
    "    passwd = \"S4gitari0!\")\n",
    "\n",
    "if mi_conexion.is_connected():\n",
    "    print(\"Conexion establecida correctamente.\")\n",
    "\n",
    "mi_cursor = mi_conexion.cursor() # PAra llevar querys de la conexion\n",
    "mi_cursor.execute(\"SHOW DATABASES\")\n",
    "\n",
    "# Accediendo al contenido\n",
    "for bd in mi_cursor:\n",
    "    print(bd)\n",
    "\n",
    "#Buenas practicas\n",
    "mi_cursor.close()\n",
    "mi_conexion.close()\n",
    "\n",
    "if not mi_conexion.is_connected():\n",
    "    print(\"Conexion finalizada correctamente.\")\n"
   ]
  },
  {
   "cell_type": "code",
   "execution_count": 8,
   "id": "0cbbd790-6c22-428b-9dbb-fc56fc775dad",
   "metadata": {},
   "outputs": [
    {
     "name": "stdout",
     "output_type": "stream",
     "text": [
      "Conexion establecida correctamente.\n",
      "Conexion finalizada correctamente.\n"
     ]
    }
   ],
   "source": [
    "mi_conexion = mysql.connector.connect(\n",
    "    host = \"localhost\",\n",
    "    user = \"root\",\n",
    "    passwd = \"\")\n",
    "\n",
    "if mi_conexion.is_connected():\n",
    "    print(\"Conexion establecida correctamente.\")\n",
    "mi_conexion.close()\n",
    "\n",
    "if not mi_conexion.is_connected():\n",
    "    print(\"Conexion finalizada correctamente.\")"
   ]
  },
  {
   "cell_type": "code",
   "execution_count": 9,
   "id": "79325385-4c85-4064-8038-1d679e696da4",
   "metadata": {},
   "outputs": [
    {
     "name": "stdout",
     "output_type": "stream",
     "text": [
      "Conexion establecida correctamente.\n",
      "('information_schema',)\n",
      "('mysql',)\n",
      "('performance_schema',)\n",
      "('sys',)\n",
      "Conexion finalizada correctamente.\n"
     ]
    }
   ],
   "source": [
    "mi_conexion = mysql.connector.connect(\n",
    "    host = \"localhost\",\n",
    "    user = \"root\",\n",
    "    passwd = \"\")\n",
    "\n",
    "if mi_conexion.is_connected():\n",
    "    print(\"Conexion establecida correctamente.\")\n",
    "\n",
    "\n",
    "mi_cursor = mi_conexion.cursor() # PAra llevar querys de la conexion\n",
    "mi_cursor.execute(\"SHOW DATABASES\")\n",
    "\n",
    "# Accediendo al contenido\n",
    "for bd in mi_cursor:\n",
    "    print(bd)\n",
    "\n",
    "#Buenas practicas\n",
    "mi_cursor.close()\n",
    "mi_conexion.close()\n",
    "if not mi_conexion.is_connected():\n",
    "    print(\"Conexion finalizada correctamente.\")"
   ]
  },
  {
   "cell_type": "code",
   "execution_count": null,
   "id": "8d622e91-0e50-4952-a439-47e27592ad4a",
   "metadata": {},
   "outputs": [],
   "source": [
    "# EVITANDO ERRORES EN CONEXION PONIENDO EXCEPCIONES\n",
    "\n",
    "try:\n",
    "    mi_conexion = mysql.connector.connect("
   ]
  }
 ],
 "metadata": {
  "kernelspec": {
   "display_name": "Python 3 (ipykernel)",
   "language": "python",
   "name": "python3"
  },
  "language_info": {
   "codemirror_mode": {
    "name": "ipython",
    "version": 3
   },
   "file_extension": ".py",
   "mimetype": "text/x-python",
   "name": "python",
   "nbconvert_exporter": "python",
   "pygments_lexer": "ipython3",
   "version": "3.8.12"
  }
 },
 "nbformat": 4,
 "nbformat_minor": 5
}
