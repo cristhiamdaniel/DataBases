{
 "cells": [
  {
   "cell_type": "markdown",
   "id": "449f0233-7e6f-4f18-b59b-f78b7eb03603",
   "metadata": {},
   "source": [
    "# Cygni EDOMEX"
   ]
  },
  {
   "cell_type": "code",
   "execution_count": 14,
   "id": "39f78928-78ec-42f9-84bb-7799300c5e58",
   "metadata": {},
   "outputs": [],
   "source": [
    "import mysql.connector\n",
    "from mysql.connector import Error\n",
    "\n",
    "mi_conexion = mysql.connector.connect(\n",
    "    host = 'localhost',\n",
    "    user = 'root',\n",
    "    passwd = \"\",\n",
    "    database = 'cygni_edomex')\n",
    "        "
   ]
  },
  {
   "cell_type": "markdown",
   "id": "f6144a2c-8cdd-4f09-862f-5aef07b3f015",
   "metadata": {},
   "source": [
    "Las tablas que contiene la base de datos de ```cygni_edomex```\n",
    "\n",
    "```mysql\n",
    "+--------------------------------+\n",
    "| Tables_in_cygni_edomex         |\n",
    "+--------------------------------+\n",
    "| con_indicadores_pobreza_c4     |\n",
    "| con_indicadores_pobreza_c56    |\n",
    "| con_indicadores_pobreza_c8     |\n",
    "| con_medicion_pobreza_c4        |\n",
    "| con_medicion_pobreza_c5        |\n",
    "| con_medicion_pobreza_c6        |\n",
    "| con_medicion_pobreza_c8a       |\n",
    "| con_medicion_pobreza_c8b       |\n",
    "| entidades_federativas          |\n",
    "| ine_condiciones_pobreza        |\n",
    "| ine_ingreso_corriente_percap   |\n",
    "| ine_materiales_piso            |\n",
    "| ine_niveles_ingreso            |\n",
    "| ine_poblacion_desempleo        |\n",
    "| ine_poblacion_ingresos         |\n",
    "| ine_poblacion_pobreza          |\n",
    "| ine_poblacion_tipo_pobreza     |\n",
    "| ine_razones_desempleo          |\n",
    "| ine_tenencia_hogares_propiedad |\n",
    "| ine_tipos_pobreza              |\n",
    "| ine_tipos_tenencia_vivienda    |\n",
    "| ine_viviendas_material_piso    |\n",
    "| municipios                     |\n",
    "| seg_bienes_juridicos           |\n",
    "| seg_conceptos_delito_ff        |\n",
    "| seg_delitos_c100m_habitantes   |\n",
    "| seg_generos                    |\n",
    "| seg_incidencia_delictiva       |\n",
    "| seg_incidencia_fuero_fed       |\n",
    "| seg_leyes_ff                   |\n",
    "| seg_modalidades_delito         |\n",
    "| seg_rangos_edad                |\n",
    "| seg_subtipos_delito            |\n",
    "| seg_tipos_delito               |\n",
    "| seg_tipos_delito_ff            |\n",
    "| seg_unidades_robadas           |\n",
    "| seg_victimas_fuero_comun       |\n",
    "+--------------------------------+\n",
    "```"
   ]
  },
  {
   "cell_type": "markdown",
   "id": "fa164be0-4397-4bfd-9b7c-36bce89451c9",
   "metadata": {},
   "source": [
    "## con_indicadores_pobreza_c4"
   ]
  },
  {
   "cell_type": "markdown",
   "id": "d73c14fc-3625-4880-9f09-be189ef224bb",
   "metadata": {},
   "source": [
    "```mysql\n",
    "+--------+------------------+------+-----+---------+----------------+\n",
    "| Field  | Type             | Null | Key | Default | Extra          |\n",
    "+--------+------------------+------+-----+---------+----------------+\n",
    "| id     | tinyint unsigned | NO   | PRI | NULL    | auto_increment |\n",
    "| nombre | varchar(50)      | NO   |     | NULL    |                |\n",
    "| activo | tinyint(1)       | NO   |     | 1       |                |\n",
    "+--------+------------------+------+-----+---------+----------------+\n",
    "```"
   ]
  },
  {
   "cell_type": "code",
   "execution_count": 18,
   "id": "c4eaeef7-498d-4330-b8bd-8c137f25084a",
   "metadata": {},
   "outputs": [
    {
     "data": {
      "text/plain": [
       "[(1, 'Pobreza', 1),\n",
       " (2, 'Pobreza moderada', 1),\n",
       " (3, 'Pobreza extrema', 1),\n",
       " (4, 'Vulnerable por carencias sociales', 1),\n",
       " (5, 'Vulnerable por ingresos', 1)]"
      ]
     },
     "execution_count": 18,
     "metadata": {},
     "output_type": "execute_result"
    }
   ],
   "source": [
    "mi_cursor = mi_conexion.cursor()\n",
    "mi_cursor.execute(\"SELECT * FROM con_indicadores_pobreza_c4 LIMIT 5\")\n",
    "    \n",
    "resultado = mi_cursor.fetchall() \n",
    "resultado"
   ]
  },
  {
   "cell_type": "markdown",
   "id": "17406c49-f140-4dbb-b97d-ba28248940d6",
   "metadata": {},
   "source": [
    "```mysql\n",
    "+----+-----------------------------------+--------+\n",
    "| id | nombre                            | activo |\n",
    "+----+-----------------------------------+--------+\n",
    "|  1 | Pobreza                           |      1 |\n",
    "|  2 | Pobreza moderada                  |      1 |\n",
    "|  3 | Pobreza extrema                   |      1 |\n",
    "|  4 | Vulnerable por carencias sociales |      1 |\n",
    "|  5 | Vulnerable por ingresos           |      1 |\n",
    "|  6 | No pobre y no vulnerable          |      1 |\n",
    "+----+-----------------------------------+--------+\n",
    "```"
   ]
  },
  {
   "cell_type": "markdown",
   "id": "db1b2a9b-b676-42eb-910c-6542f88fb926",
   "metadata": {},
   "source": [
    "## con_indicadores_pobreza_c56 "
   ]
  },
  {
   "cell_type": "markdown",
   "id": "9d944014-37e5-4daf-a42c-654220a883bc",
   "metadata": {},
   "source": [
    "```mysql\n",
    "+----+-----------------------------------------------------------------------------+--------+\n",
    "| id | nombre                                                                      | activo |\n",
    "+----+-----------------------------------------------------------------------------+--------+\n",
    "|  1 | Población                                                                   |      1 |\n",
    "|  2 | Rezago educativo                                                            |      1 |\n",
    "|  3 | Carencia por acceso a los servicios de salud                                |      1 |\n",
    "|  4 | Carencia por acceso a la seguridad social                                   |      1 |\n",
    "|  5 | Carencia por calidad y espacios de la vivienda                              |      1 |\n",
    "|  6 | Carencia por acceso a los servicios básicos en la vivienda                  |      1 |\n",
    "|  7 | Carencia por acceso a la alimentación                                       |      1 |\n",
    "|  8 | Población con ingreso inferior a la línea de pobreza extrema por ingresos   |      1 |\n",
    "|  9 | Población con ingreso inferior a la línea de pobreza por ingresos           |      1 |\n",
    "+----+-----------------------------------------------------------------------------+--------+\n",
    "```"
   ]
  },
  {
   "cell_type": "markdown",
   "id": "a99a9e74-2db1-4ad4-ac20-8a49ab86a987",
   "metadata": {},
   "source": [
    "# con_indicadores_pobreza_c8"
   ]
  },
  {
   "cell_type": "markdown",
   "id": "ceb3963e-06ad-4fd8-8def-19592676b506",
   "metadata": {},
   "source": [
    "```mysql\n",
    "+----+------------------------------------------------+--------+\n",
    "| id | nombre                                         | activo |\n",
    "+----+------------------------------------------------+--------+\n",
    "|  1 | Pobreza                                        |      1 |\n",
    "|  2 | Pobreza extrema                                |      1 |\n",
    "|  3 | Alkire y Foster                                |      1 |\n",
    "|  4 | Rezago educativo                               |      1 |\n",
    "|  5 | Acceso a los servicios de salud                |      1 |\n",
    "|  6 | Acceso a la seguridad social                   |      1 |\n",
    "|  7 | Calidad y espacios de la vivienda              |      1 |\n",
    "|  8 | Acceso a los servicios básicos en la vivienda  |      1 |\n",
    "|  9 | Acceso a la alimentación                       |      1 |\n",
    "+----+------------------------------------------------+--------+\n",
    "```"
   ]
  },
  {
   "cell_type": "markdown",
   "id": "ff77d3f7-cf40-4630-8805-e6cff331a23b",
   "metadata": {},
   "source": [
    "## con_medicion_pobreza_c4"
   ]
  },
  {
   "cell_type": "code",
   "execution_count": 7,
   "id": "bf799a18-bf2b-4929-99a3-73b3012bd9c8",
   "metadata": {},
   "outputs": [
    {
     "data": {
      "text/plain": [
       "[(1, 1, 1, 2008, 37.6361553591112, 435.328, 1.96653783321381),\n",
       " (2, 1, 1, 2010, 38.130727388215, 456.837, 1.93816614151001),\n",
       " (3, 1, 1, 2012, 37.758857252687, 467.56, 1.84591710567474),\n",
       " (4, 1, 1, 2014, 34.7659184629914, 442.866, 1.72419202327728),\n",
       " (5, 1, 1, 2016, 28.2192178207996, 369.652, 1.71401214599609),\n",
       " (6, 1, 1, 2018, 26.1829587207384, 351.529, 1.6133064031601),\n",
       " (7, 1, 2, 2008, 33.4580586595197, 387.001, 1.77193343639374),\n",
       " (8, 1, 2, 2010, 34.3646214237602, 411.716, 1.77318346500397),\n",
       " (9, 1, 2, 2012, 34.368668127296, 425.58, 1.6959114074707),\n",
       " (10, 1, 2, 2014, 32.6692054251243, 416.157, 1.61911725997925)]"
      ]
     },
     "execution_count": 7,
     "metadata": {},
     "output_type": "execute_result"
    }
   ],
   "source": [
    "import mysql.connector\n",
    "from mysql.connector import Error\n",
    "\n",
    "try:\n",
    "    mi_conexion = mysql.connector.connect(\n",
    "        host = 'localhost',\n",
    "        user = 'root',\n",
    "        passwd = \"\",\n",
    "        database = 'cygni_edomex')\n",
    "        \n",
    "    mi_cursor = mi_conexion.cursor()\n",
    "    mi_cursor.execute(\"SELECT * FROM con_medicion_pobreza_c4  LIMIT 10\")\n",
    "    \n",
    "    resultado = mi_cursor.fetchall() \n",
    "    #print(resultado)\n",
    "    \n",
    "    mi_cursor.close()\n",
    "    mi_conexion.close()\n",
    "except Error as e:\n",
    "    print(\"Ha ocurrido un error:\")\n",
    "    print(e)\n",
    "\n",
    "resultado"
   ]
  },
  {
   "cell_type": "markdown",
   "id": "4a4f7387-f2c0-4edd-816a-ce605133d7db",
   "metadata": {},
   "source": [
    "## con_medicion_pobreza_c5 "
   ]
  },
  {
   "cell_type": "code",
   "execution_count": 8,
   "id": "1c77c058-4a5b-4173-bbf3-2811a4576bf6",
   "metadata": {},
   "outputs": [
    {
     "data": {
      "text/plain": [
       "[(1, 1, 1, 2008, 1156.675),\n",
       " (2, 1, 1, 2010, 1198.081),\n",
       " (3, 1, 1, 2012, 1238.279),\n",
       " (4, 1, 1, 2014, 1273.851),\n",
       " (5, 1, 1, 2016, 1309.93),\n",
       " (6, 1, 1, 2018, 1342.587),\n",
       " (7, 1, 2, 2008, 18.075345993042),\n",
       " (8, 1, 2, 2010, 17.2445774078369),\n",
       " (9, 1, 2, 2012, 15.3175497055054),\n",
       " (10, 1, 2, 2014, 14.352463722229)]"
      ]
     },
     "execution_count": 8,
     "metadata": {},
     "output_type": "execute_result"
    }
   ],
   "source": [
    "import mysql.connector\n",
    "from mysql.connector import Error\n",
    "\n",
    "try:\n",
    "    mi_conexion = mysql.connector.connect(\n",
    "        host = 'localhost',\n",
    "        user = 'root',\n",
    "        passwd = \"\",\n",
    "        database = 'cygni_edomex')\n",
    "        \n",
    "    mi_cursor = mi_conexion.cursor()\n",
    "    mi_cursor.execute(\"SELECT * FROM con_medicion_pobreza_c5  LIMIT 10\")\n",
    "    \n",
    "    resultado = mi_cursor.fetchall() \n",
    "    #print(resultado)\n",
    "    \n",
    "    mi_cursor.close()\n",
    "    mi_conexion.close()\n",
    "except Error as e:\n",
    "    print(\"Ha ocurrido un error:\")\n",
    "    print(e)\n",
    "\n",
    "resultado"
   ]
  },
  {
   "cell_type": "markdown",
   "id": "2a8edd5a-a7b3-4d0e-8c1d-699d1973bfc7",
   "metadata": {},
   "source": [
    "## con_medicion_pobreza_c6 "
   ]
  },
  {
   "cell_type": "code",
   "execution_count": 9,
   "id": "efcf6d6c-7dc6-4a4e-93c3-1d7634980d23",
   "metadata": {},
   "outputs": [
    {
     "data": {
      "text/plain": [
       "[(1, 1, 1, 2008, 1156.675),\n",
       " (2, 1, 1, 2010, 1198.081),\n",
       " (3, 1, 1, 2012, 1238.279),\n",
       " (4, 1, 1, 2014, 1273.851),\n",
       " (5, 1, 1, 2016, 1309.93),\n",
       " (6, 1, 1, 2018, 1342.587),\n",
       " (7, 1, 2, 2008, 209.073),\n",
       " (8, 1, 2, 2010, 206.604),\n",
       " (9, 1, 2, 2012, 189.674),\n",
       " (10, 1, 2, 2014, 182.829)]"
      ]
     },
     "execution_count": 9,
     "metadata": {},
     "output_type": "execute_result"
    }
   ],
   "source": [
    "import mysql.connector\n",
    "from mysql.connector import Error\n",
    "\n",
    "try:\n",
    "    mi_conexion = mysql.connector.connect(\n",
    "        host = 'localhost',\n",
    "        user = 'root',\n",
    "        passwd = \"\",\n",
    "        database = 'cygni_edomex')\n",
    "        \n",
    "    mi_cursor = mi_conexion.cursor()\n",
    "    mi_cursor.execute(\"SELECT * FROM con_medicion_pobreza_c6  LIMIT 10\")\n",
    "    \n",
    "    resultado = mi_cursor.fetchall() \n",
    "    #print(resultado)\n",
    "    \n",
    "    mi_cursor.close()\n",
    "    mi_conexion.close()\n",
    "except Error as e:\n",
    "    print(\"Ha ocurrido un error:\")\n",
    "    print(e)\n",
    "\n",
    "resultado"
   ]
  },
  {
   "cell_type": "markdown",
   "id": "942a2982-fc4a-44d6-814f-19a9292cc99a",
   "metadata": {},
   "source": [
    "## con_medicion_pobreza_c8a "
   ]
  },
  {
   "cell_type": "code",
   "execution_count": 10,
   "id": "bed9fce4-9c85-4a2a-85d6-3e578d02bd47",
   "metadata": {},
   "outputs": [
    {
     "data": {
      "text/plain": [
       "[(1, 1, 1, 2008, 1.96653783321381, 0.123354874551296),\n",
       " (2, 1, 1, 2010, 1.93816612927587, 0.123172809640822),\n",
       " (3, 1, 1, 2012, 1.84591710154846, 0.116166203123319),\n",
       " (4, 1, 1, 2014, 1.72419196777355, 0.0999051978755272),\n",
       " (5, 1, 1, 2016, 1.71401209786502, 0.0806134696859458),\n",
       " (6, 1, 1, 2018, 1.6133064031601, 0.0704018920660019),\n",
       " (7, 1, 2, 2008, 3.524924, 0.0245457887649536),\n",
       " (8, 1, 2, 2010, 3.44358502692759, 0.0216148436342666),\n",
       " (9, 1, 2, 2012, 3.36662696522153, 0.0190225036825412),\n",
       " (10, 1, 2, 2014, 3.36137631509978, 0.011746402643643)]"
      ]
     },
     "execution_count": 10,
     "metadata": {},
     "output_type": "execute_result"
    }
   ],
   "source": [
    "import mysql.connector\n",
    "from mysql.connector import Error\n",
    "\n",
    "try:\n",
    "    mi_conexion = mysql.connector.connect(\n",
    "        host = 'localhost',\n",
    "        user = 'root',\n",
    "        passwd = \"\",\n",
    "        database = 'cygni_edomex')\n",
    "        \n",
    "    mi_cursor = mi_conexion.cursor()\n",
    "    mi_cursor.execute(\"SELECT * FROM con_medicion_pobreza_c8a  LIMIT 10\")\n",
    "    \n",
    "    resultado = mi_cursor.fetchall() \n",
    "    #print(resultado)\n",
    "    \n",
    "    mi_cursor.close()\n",
    "    mi_conexion.close()\n",
    "except Error as e:\n",
    "    print(\"Ha ocurrido un error:\")\n",
    "    print(e)\n",
    "\n",
    "resultado"
   ]
  },
  {
   "cell_type": "markdown",
   "id": "bd1d229e-c27f-4a33-806e-704c6243aebe",
   "metadata": {},
   "source": [
    "## con_medicion_pobreza_c8b"
   ]
  },
  {
   "cell_type": "markdown",
   "id": "b2dae6b5-aa23-45aa-97be-d397ce5dd4f3",
   "metadata": {},
   "source": [
    "```mysql\n",
    "+--------------+-------------------+------+-----+---------+----------------+\n",
    "| Field        | Type              | Null | Key | Default | Extra          |\n",
    "+--------------+-------------------+------+-----+---------+----------------+\n",
    "| id           | int unsigned      | NO   | PRI | NULL    | auto_increment |\n",
    "| id_entidad   | tinyint unsigned  | NO   | MUL | NULL    |                |\n",
    "| id_indicador | tinyint unsigned  | NO   | MUL | NULL    |                |\n",
    "| anio         | smallint unsigned | NO   |     | NULL    |                |\n",
    "| porcentaje   | double            | YES  |     | NULL    |                |\n",
    "+--------------+-------------------+------+-----+---------+----------------+\n",
    "```"
   ]
  },
  {
   "cell_type": "code",
   "execution_count": 11,
   "id": "28291d96-2d58-410d-960f-f40e48273f51",
   "metadata": {},
   "outputs": [
    {
     "data": {
      "text/plain": [
       "[(1, 1, 4, 2008, 14.0659437179565),\n",
       " (2, 1, 4, 2010, 15.3803930282593),\n",
       " (3, 1, 4, 2012, 14.2046422958374),\n",
       " (4, 1, 4, 2014, 14.2923002243042),\n",
       " (5, 1, 4, 2016, 15.550799369812),\n",
       " (6, 1, 4, 2018, 15.5417509078979),\n",
       " (7, 1, 5, 2008, 14.8608379364014),\n",
       " (8, 1, 5, 2010, 13.1797571182251),\n",
       " (9, 1, 5, 2012, 12.0829315185547),\n",
       " (10, 1, 5, 2014, 10.8303451538086)]"
      ]
     },
     "execution_count": 11,
     "metadata": {},
     "output_type": "execute_result"
    }
   ],
   "source": [
    "import mysql.connector\n",
    "from mysql.connector import Error\n",
    "\n",
    "try:\n",
    "    mi_conexion = mysql.connector.connect(\n",
    "        host = 'localhost',\n",
    "        user = 'root',\n",
    "        passwd = \"\",\n",
    "        database = 'cygni_edomex')\n",
    "        \n",
    "    mi_cursor = mi_conexion.cursor()\n",
    "    mi_cursor.execute(\"SELECT * FROM con_medicion_pobreza_c8b  LIMIT 10\")\n",
    "    \n",
    "    resultado = mi_cursor.fetchall() \n",
    "    #print(resultado)\n",
    "    \n",
    "    mi_cursor.close()\n",
    "    mi_conexion.close()\n",
    "except Error as e:\n",
    "    print(\"Ha ocurrido un error:\")\n",
    "    print(e)\n",
    "\n",
    "resultado"
   ]
  },
  {
   "cell_type": "markdown",
   "id": "d797e4d7-f829-4681-89aa-6fa181256f3d",
   "metadata": {},
   "source": [
    "## entidades_federativas"
   ]
  },
  {
   "cell_type": "code",
   "execution_count": 12,
   "id": "e0f3eb8d-8007-4f74-bbe5-12628047a6f1",
   "metadata": {},
   "outputs": [
    {
     "data": {
      "text/plain": [
       "[(1, '001', 'AGUASCALIENTES', 'AGUASCALIENTES', 1),\n",
       " (2, '002', 'BAJA CALIFORNIA', 'MEXICALI', 1),\n",
       " (3, '003', 'BAJA CALIFORNIA SUR', 'LA PAZ', 1),\n",
       " (4, '004', 'CAMPECHE', 'SAN FRANCISCO DE CAMPECHE', 1),\n",
       " (5, '005', 'COAHUILA DE ZARAGOZA', 'SALTILLO', 1),\n",
       " (6, '006', 'COLIMA', 'COLIMA', 1),\n",
       " (7, '007', 'CHIAPAS', 'TUXTLA GUTIÉRREZ', 1),\n",
       " (8, '008', 'CHIHUAHUA', 'CHIHUAHUA', 1),\n",
       " (9, '009', 'CIUDAD DE MÉXICO', '', 1),\n",
       " (10, '010', 'DURANGO', 'VICTORIA DE DURANGO', 1)]"
      ]
     },
     "execution_count": 12,
     "metadata": {},
     "output_type": "execute_result"
    }
   ],
   "source": [
    "import mysql.connector\n",
    "from mysql.connector import Error\n",
    "\n",
    "try:\n",
    "    mi_conexion = mysql.connector.connect(\n",
    "        host = 'localhost',\n",
    "        user = 'root',\n",
    "        passwd = \"\",\n",
    "        database = 'cygni_edomex')\n",
    "        \n",
    "    mi_cursor = mi_conexion.cursor()\n",
    "    mi_cursor.execute(\"SELECT * FROM entidades_federativas LIMIT 10\")\n",
    "    \n",
    "    resultado = mi_cursor.fetchall() \n",
    "    #print(resultado)\n",
    "    \n",
    "    mi_cursor.close()\n",
    "    mi_conexion.close()\n",
    "except Error as e:\n",
    "    print(\"Ha ocurrido un error:\")\n",
    "    print(e)\n",
    "\n",
    "resultado"
   ]
  }
 ],
 "metadata": {
  "kernelspec": {
   "display_name": "Python 3 (ipykernel)",
   "language": "python",
   "name": "python3"
  },
  "language_info": {
   "codemirror_mode": {
    "name": "ipython",
    "version": 3
   },
   "file_extension": ".py",
   "mimetype": "text/x-python",
   "name": "python",
   "nbconvert_exporter": "python",
   "pygments_lexer": "ipython3",
   "version": "3.8.12"
  }
 },
 "nbformat": 4,
 "nbformat_minor": 5
}
