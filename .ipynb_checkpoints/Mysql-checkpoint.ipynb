{
 "cells": [
  {
   "cell_type": "markdown",
   "id": "bf2f683d-6e5f-453a-af0c-14100c11e7ce",
   "metadata": {},
   "source": [
    "# ESTABLECIENDO UNA CONEXION AL SGDB MySQL"
   ]
  },
  {
   "cell_type": "code",
   "execution_count": 1,
   "id": "4144a906-210e-4ea7-a4b9-913c08ba664d",
   "metadata": {},
   "outputs": [],
   "source": [
    "import mysql.connector"
   ]
  },
  {
   "cell_type": "code",
   "execution_count": null,
   "id": "62e22e2a-9419-48bc-a5ec-f477770d1319",
   "metadata": {},
   "outputs": [],
   "source": [
    "mi_conexion = mysql.connector.connect(\n",
    "    host = \"38.123.204.196\",\n",
    "    user = \"intelite\",\n",
    "    passwd = \"*********\")\n",
    "\n",
    "if mi_conexion.is_connected():\n",
    "    print(\"Conexion establecida correctamente.\")\n",
    "\n",
    "mi_cursor = mi_conexion.cursor() # PAra llevar querys de la conexion\n",
    "mi_cursor.execute(\"SHOW DATABASES\")\n",
    "\n",
    "# Accediendo al contenido\n",
    "for bd in mi_cursor:\n",
    "    print(bd)\n",
    "\n",
    "#Buenas practicas\n",
    "mi_cursor.close()\n",
    "mi_conexion.close()\n",
    "\n",
    "if not mi_conexion.is_connected():\n",
    "    print(\"Conexion finalizada correctamente.\")\n"
   ]
  },
  {
   "cell_type": "code",
   "execution_count": null,
   "id": "0cbbd790-6c22-428b-9dbb-fc56fc775dad",
   "metadata": {},
   "outputs": [],
   "source": [
    "mi_conexion = mysql.connector.connect(\n",
    "    host = \"localhost\",\n",
    "    user = \"root\",\n",
    "    passwd = \"*******\")\n",
    "\n",
    "if mi_conexion.is_connected():\n",
    "    print(\"Conexion establecida correctamente.\")\n",
    "mi_conexion.close()\n",
    "\n",
    "if not mi_conexion.is_connected():\n",
    "    print(\"Conexion finalizada correctamente.\")"
   ]
  },
  {
   "cell_type": "code",
   "execution_count": null,
   "id": "79325385-4c85-4064-8038-1d679e696da4",
   "metadata": {},
   "outputs": [],
   "source": [
    "mi_conexion = mysql.connector.connect(\n",
    "    host = \"localhost\",\n",
    "    user = \"*******\",\n",
    "    passwd = \"\")\n",
    "\n",
    "if mi_conexion.is_connected():\n",
    "    print(\"Conexion establecida correctamente.\")\n",
    "\n",
    "\n",
    "mi_cursor = mi_conexion.cursor() # PAra llevar querys de la conexion\n",
    "mi_cursor.execute(\"SHOW DATABASES\")\n",
    "\n",
    "# Accediendo al contenido\n",
    "for bd in mi_cursor:\n",
    "    print(bd)\n",
    "\n",
    "#Buenas practicas\n",
    "mi_cursor.close()\n",
    "mi_conexion.close()\n",
    "if not mi_conexion.is_connected():\n",
    "    print(\"Conexion finalizada correctamente.\")"
   ]
  },
  {
   "cell_type": "code",
   "execution_count": null,
   "id": "8d622e91-0e50-4952-a439-47e27592ad4a",
   "metadata": {},
   "outputs": [],
   "source": [
    "# EVITANDO ERRORES EN CONEXION PONIENDO EXCEPCIONES\n",
    "\n",
    "try:\n",
    "    mi_conexion = mysql.connector.connect("
   ]
  },
  {
   "cell_type": "markdown",
   "id": "fd250a0d-6c73-4946-b21b-5b0c30f1287e",
   "metadata": {},
   "source": [
    "# Evitando errores en conexión poniendo excepciones"
   ]
  },
  {
   "cell_type": "code",
   "execution_count": null,
   "id": "03257141-eed4-498b-bf50-200d5c3582cd",
   "metadata": {},
   "outputs": [],
   "source": [
    "import mysql.connector\n",
    "from mysql.connector import Error\n",
    "\n",
    "try:\n",
    "    mi_conexion = mysql.connector.connect(\n",
    "        host = input(\"introduce la IP: \"),\n",
    "        user = input(\"introduce el usuario: \"),\n",
    "        passwd = input(\"introduce la contrasenia: \"))\n",
    "    mi_cursor = mi_conexion.cursor()\n",
    "    mi_cursor.execute(\"SHOW DATABASES\")\n",
    "    for bd in mi_cursor:\n",
    "        print(bd)\n",
    "    mi_cursor.close()\n",
    "    mi_conexion.close()\n",
    "except Error as e:\n",
    "    print(\"Ha ocurrido un error:\")\n",
    "    print(e)\n"
   ]
  },
  {
   "cell_type": "markdown",
   "id": "52649112-0af3-4e0b-a137-2c657551e79c",
   "metadata": {},
   "source": [
    "# USANDO FUNCIONES EN UNA CONEXION"
   ]
  },
  {
   "cell_type": "code",
   "execution_count": 2,
   "id": "19711c3b-15fe-4307-9147-81ba76bf2b96",
   "metadata": {},
   "outputs": [
    {
     "name": "stdin",
     "output_type": "stream",
     "text": [
      "Introduzca la ip:  localhost\n",
      "Introduzca el usuario:  root\n",
      "Introduzca la contrasenia:  \n"
     ]
    },
    {
     "name": "stdout",
     "output_type": "stream",
     "text": [
      "Conexion realizada correctamente\n",
      "('information_schema',)\n",
      "('mysql',)\n",
      "('performance_schema',)\n",
      "('sys',)\n",
      "Conexion finalizada correctamente.\n"
     ]
    }
   ],
   "source": [
    "def conectarse(ip, usuario, contrasenia):\n",
    "    try:\n",
    "        conexion = mysql.connector.connect(\n",
    "            host = ip,\n",
    "            user = usuario,\n",
    "            passwd = contrasenia)\n",
    "        print(\"Conexion realizada correctamente\")\n",
    "\n",
    "    except Error as e:\n",
    "        conexion = None\n",
    "        print(\"Ha ocurrido el error:\")\n",
    "        print(e)\n",
    "\n",
    "    return conexion\n",
    "\n",
    "def desconectarse(conexion):\n",
    "    if conexion:\n",
    "        conexion.close()\n",
    "        print(\"Conexion finalizada correctamente.\")\n",
    "\n",
    "def hacer_consulta(conexion):\n",
    "    cursor = conexion.cursor()\n",
    "    cursor.execute(\"SHOW DATABASES\")\n",
    "    for bd in cursor:\n",
    "        print(bd)\n",
    "    cursor.close()\n",
    "\n",
    "i = input(\"Introduzca la ip: \")\n",
    "u = input(\"Introduzca el usuario: \")\n",
    "c = input(\"Introduzca la contrasenia: \")\n",
    "\n",
    "conexion = conectarse(i,u,c)\n",
    "if conexion:\n",
    "    hacer_consulta(conexion)\n",
    "    desconectarse(conexion)"
   ]
  },
  {
   "cell_type": "markdown",
   "id": "3b90a983-b02e-40c6-91c8-9e2c906048aa",
   "metadata": {},
   "source": [
    "# Usar variables de entorno en los datos de conexión"
   ]
  },
  {
   "cell_type": "code",
   "execution_count": 1,
   "id": "fd1a666d-4932-4ebe-afa2-e133b581fd71",
   "metadata": {},
   "outputs": [
    {
     "name": "stdout",
     "output_type": "stream",
     "text": [
      "Ha ocurrido el error:\n",
      "1045 (28000): Access denied for user 'cristhiamdaniel'@'localhost' (using password: NO)\n"
     ]
    }
   ],
   "source": [
    "'''\n",
    "En esta oportunidad no vamos a tener que introducir\n",
    "el usuario y la contrasena cada vez que se ejecuta el programa\n",
    "para no dejarlos expuestos en el fichero\n",
    "\n",
    "Para ello vamos a utilizar os para tener acceso a las variables\n",
    "de entorno del sistema operativo para guardar los datos del usuario y\n",
    "la contrasena\n",
    "'''\n",
    "\n",
    "import mysql.connector\n",
    "from mysql.connector import Error\n",
    "\n",
    "import os\n",
    "\n",
    "def conectarse(ip, usuario, contrasenia):\n",
    "    try:\n",
    "        conexion = mysql.connector.connect(\n",
    "            host = ip,\n",
    "            user = usuario,\n",
    "            passwd = contrasenia)\n",
    "        print(\"Conexion realizada correctamente\")\n",
    "\n",
    "    except Error as e:\n",
    "        conexion = None\n",
    "        print(\"Ha ocurrido el error:\")\n",
    "        print(e)\n",
    "\n",
    "    return conexion\n",
    "\n",
    "def desconectarse(conexion):\n",
    "    if conexion:\n",
    "        conexion.close()\n",
    "        print(\"Conexion finalizada correctamente.\")\n",
    "\n",
    "def hacer_consulta(conexion):\n",
    "    cursor = conexion.cursor()\n",
    "    cursor.execute(\"SHOW DATABASES\")\n",
    "    for bd in cursor:\n",
    "        print(bd)\n",
    "    cursor.close()\n",
    "\n",
    "i = os.environ.get(\"host_mysql\")\n",
    "u = os.environ.get(\"usuario_mysql\")\n",
    "c = os.environ.get(\"contrasenia_mysql\")\n",
    "\n",
    "conexion = conectarse(i,u,c)\n",
    "if conexion:\n",
    "    hacer_consulta(conexion)\n",
    "    desconectarse(conexion)"
   ]
  },
  {
   "cell_type": "markdown",
   "id": "9ae359b8-af3e-47e2-a119-8af32d013ccd",
   "metadata": {},
   "source": [
    "# Extraer registros mediante los métodos fetchall o fetchone"
   ]
  },
  {
   "cell_type": "markdown",
   "id": "9fe6af59-94e1-4f2a-9efb-797283883646",
   "metadata": {},
   "source": [
    "En primer lugar debemos crear una base de datos con una tabla que contenga ciertos registros para poder hacer las respectivas consultas. <br>\n",
    "\n",
    "Desde la consola, ingresamos al usuario root de MySQL:\n",
    "\n",
    "```mysql\n",
    "mysql -u root -p\n",
    "```\n",
    "\n",
    "Mostramos las bases de datos que contamos en ese momento:\n",
    "\n",
    "```mysql\n",
    "show databases;\n",
    "```\n",
    "\n",
    "```mysql\n",
    "+--------------------+\n",
    "| Database           |\n",
    "+--------------------+\n",
    "| information_schema |\n",
    "| mysql              |\n",
    "| performance_schema |\n",
    "| sys                |\n",
    "+--------------------+\n",
    "```\n",
    "\n",
    "Creamos la base de datos \"juegos\":\n",
    "\n",
    "```mysql\n",
    "create database juego character set utf8;\n",
    "```\n",
    "\n",
    "Mostramos nuevamente la base de datos:\n",
    "\n",
    "```mysql\n",
    "show databases;\n",
    "```\n",
    "\n",
    "```mysql\n",
    "+--------------------+\n",
    "| Database           |\n",
    "+--------------------+\n",
    "| information_schema |\n",
    "| juego              |\n",
    "| mysql              |\n",
    "| performance_schema |\n",
    "| sys                |\n",
    "+--------------------+\n",
    "\n",
    "```"
   ]
  },
  {
   "cell_type": "markdown",
   "id": "7b59c778-94c5-40bd-8b26-db02cd4bc115",
   "metadata": {},
   "source": [
    "Ahora vamos a ingresar a la BD juegos con el siguiente comando:\n",
    "\n",
    "```mysql\n",
    "use juego;\n",
    "```\n",
    "\n",
    "Y creamos la tabla \"usuarios\" con sus respectivos campos:\n",
    "\n",
    "```mysql\n",
    "create table usuarios (nombre_usuario VARCHAR(20) PRIMARY KEY, contrasenia INT , avatar VARCHAR(20), puntos INT);\n",
    "```\n",
    "\n",
    "Ahora mostramos la tabla \n",
    "\n",
    "```mysql\n",
    "show tables;\n",
    "```\n",
    "\n",
    "```mysql\n",
    "+-----------------+\n",
    "| Tables_in_juego |\n",
    "+-----------------+\n",
    "| usuarios        |\n",
    "+-----------------+\n",
    "```\n",
    "\n",
    "Finalmente se crean los registros en la tabla de \"usuarios\":\n",
    "\n",
    "```mysql\n",
    "insert into usuarios (nombre_usuarios, contrasenia, avatar, puntos) values ('fred', '7777', 'Pinguino', '28');\n",
    "```\n",
    "\n",
    "Despues de ingresar 3 registros entonces:\n",
    "\n",
    "\n",
    "```mysql\n",
    "select * from usuarios;\n",
    "\n",
    "```\n",
    "\n",
    "```mysql\n",
    "+----------------+-------------+----------+--------+\n",
    "| nombre_usuario | contrasenia | avatar   | puntos |\n",
    "+----------------+-------------+----------+--------+\n",
    "| fred           |        7777 | Pinguino |     28 |\n",
    "| gerry          |        2222 | Halcon   |    210 |\n",
    "| hanna          |        3333 | pirana   |     57 |\n",
    "+----------------+-------------+----------+--------+\n",
    "```\n"
   ]
  },
  {
   "cell_type": "code",
   "execution_count": 5,
   "id": "54cb92df-c3b1-4f15-abbf-edf7aab33391",
   "metadata": {},
   "outputs": [
    {
     "name": "stdin",
     "output_type": "stream",
     "text": [
      "introduce la IP:  localhost\n",
      "introduce el usuario:  root\n",
      "introduce la contrasenia:  \n",
      "Introduce la BD:  juego\n"
     ]
    },
    {
     "name": "stdout",
     "output_type": "stream",
     "text": [
      "('fred', 7777, 'Pinguino', 28)\n",
      "('gerry', 2222, 'Halcon', 210)\n",
      "('hanna', 3333, 'pirana', 57)\n"
     ]
    }
   ],
   "source": [
    "# Debemos agregar la BD que queremos conectarnos y cambiar el metodo execute \n",
    "\n",
    "import mysql.connector\n",
    "from mysql.connector import Error\n",
    "\n",
    "try:\n",
    "    mi_conexion = mysql.connector.connect(\n",
    "        host = input(\"introduce la IP: \"),\n",
    "        user = input(\"introduce el usuario: \"),\n",
    "        passwd = input(\"introduce la contrasenia: \"),\n",
    "        database = input(\"Introduce la BD: \"))\n",
    "        \n",
    "    mi_cursor = mi_conexion.cursor()\n",
    "    mi_cursor.execute(\"SELECT * FROM usuarios\")\n",
    "    \n",
    "    resultado = mi_cursor.fetchall() # Extrae todos los registros\n",
    "    \n",
    "    for r in resultado:\n",
    "        print(r)\n",
    "    \n",
    "    mi_cursor.close()\n",
    "    mi_conexion.close()\n",
    "except Error as e:\n",
    "    print(\"Ha ocurrido un error:\")\n",
    "    print(e)"
   ]
  },
  {
   "cell_type": "code",
   "execution_count": 6,
   "id": "ba927625-1541-42f5-bff4-5d3bc3ab13a2",
   "metadata": {},
   "outputs": [
    {
     "name": "stdin",
     "output_type": "stream",
     "text": [
      "introduce la IP:  localhost\n",
      "introduce el usuario:  root\n",
      "introduce la contrasenia:  \n",
      "Introduce la BD:  juego\n"
     ]
    },
    {
     "name": "stdout",
     "output_type": "stream",
     "text": [
      "fred\n",
      "7777\n",
      "Pinguino\n",
      "28\n",
      "Ha ocurrido un error:\n",
      "Unread result found\n"
     ]
    }
   ],
   "source": [
    "import mysql.connector\n",
    "from mysql.connector import Error\n",
    "\n",
    "try:\n",
    "    mi_conexion = mysql.connector.connect(\n",
    "        host = input(\"introduce la IP: \"),\n",
    "        user = input(\"introduce el usuario: \"),\n",
    "        passwd = input(\"introduce la contrasenia: \"),\n",
    "        database = input(\"Introduce la BD: \"))\n",
    "        \n",
    "    mi_cursor = mi_conexion.cursor()\n",
    "    mi_cursor.execute(\"SELECT * FROM usuarios\")\n",
    "    \n",
    "    resultado = mi_cursor.fetchone() # Extrae solo un registro\n",
    "    \n",
    "    for r in resultado:\n",
    "        print(r)\n",
    "    \n",
    "    mi_cursor.close()\n",
    "    mi_conexion.close()\n",
    "except Error as e:\n",
    "    print(\"Ha ocurrido un error:\")\n",
    "    print(e)"
   ]
  },
  {
   "cell_type": "code",
   "execution_count": 7,
   "id": "0c591269-c72e-484e-a439-0f37a42ddda6",
   "metadata": {},
   "outputs": [
    {
     "name": "stdin",
     "output_type": "stream",
     "text": [
      "introduce la IP:  localhost\n",
      "introduce el usuario:  root\n",
      "introduce la contrasenia:  \n",
      "Introduce la BD:  juego\n"
     ]
    },
    {
     "name": "stdout",
     "output_type": "stream",
     "text": [
      "fred\n",
      "7777\n",
      "Pinguino\n",
      "28\n"
     ]
    }
   ],
   "source": [
    "# Para eliminar el error del bloque anterior \n",
    "\n",
    "import mysql.connector\n",
    "from mysql.connector import Error\n",
    "\n",
    "try:\n",
    "    mi_conexion = mysql.connector.connect(\n",
    "        host = input(\"introduce la IP: \"),\n",
    "        user = input(\"introduce el usuario: \"),\n",
    "        passwd = input(\"introduce la contrasenia: \"),\n",
    "        database = input(\"Introduce la BD: \"))\n",
    "        \n",
    "    mi_cursor = mi_conexion.cursor(buffered = True)\n",
    "    mi_cursor.execute(\"SELECT * FROM usuarios\")\n",
    "    \n",
    "    resultado = mi_cursor.fetchone() # Extrae solo un registro\n",
    "    \n",
    "    for r in resultado:\n",
    "        print(r)\n",
    "    \n",
    "    mi_cursor.close()\n",
    "    mi_conexion.close()\n",
    "except Error as e:\n",
    "    print(\"Ha ocurrido un error:\")\n",
    "    print(e)"
   ]
  },
  {
   "cell_type": "code",
   "execution_count": 13,
   "id": "ffb356c6-f7a0-4862-9126-75475812ad78",
   "metadata": {},
   "outputs": [
    {
     "name": "stdout",
     "output_type": "stream",
     "text": [
      "('fred', 7777, 'Pinguino', 28)\n",
      "('gerry', 2222, 'Halcon', 210)\n",
      "('hanna', 3333, 'pirana', 57)\n"
     ]
    }
   ],
   "source": [
    "# Para no cargar la memoria si en dado caso la BD tiene miles de registros\n",
    "# Usamos un while para mostrar registro por registro liberando la memoria.\n",
    "\n",
    "import mysql.connector\n",
    "from mysql.connector import Error\n",
    "\n",
    "try:\n",
    "    mi_conexion = mysql.connector.connect(\n",
    "        host = 'localhost',\n",
    "        user = 'root',\n",
    "        passwd = \"\",\n",
    "        database = 'juego')\n",
    "        \n",
    "    mi_cursor = mi_conexion.cursor(buffered = True)\n",
    "    mi_cursor.execute(\"SELECT * FROM usuarios\")\n",
    "    \n",
    "    resultado = mi_cursor.fetchone() \n",
    "    while resultado is not None:\n",
    "        print(resultado)\n",
    "        resultado = mi_cursor.fetchone()\n",
    "    \n",
    "    mi_cursor.close()\n",
    "    mi_conexion.close()\n",
    "except Error as e:\n",
    "    print(\"Ha ocurrido un error:\")\n",
    "    print(e)"
   ]
  },
  {
   "cell_type": "code",
   "execution_count": 22,
   "id": "5dbb6ddd-a1b7-4d43-9b7f-e8bb5e4a66d5",
   "metadata": {},
   "outputs": [
    {
     "name": "stdout",
     "output_type": "stream",
     "text": [
      "[('fred', 7777, 'Pinguino', 28), ('gerry', 2222, 'Halcon', 210)]\n"
     ]
    }
   ],
   "source": [
    "# El metodo fetchmany toma como argumento la cantidad de registros que quisieramos extraer\n",
    "import mysql.connector\n",
    "from mysql.connector import Error\n",
    "\n",
    "try:\n",
    "    mi_conexion = mysql.connector.connect(\n",
    "        host = 'localhost',\n",
    "        user = 'root',\n",
    "        passwd = \"\",\n",
    "        database = 'juego')\n",
    "        \n",
    "    mi_cursor = mi_conexion.cursor(buffered = True)\n",
    "    mi_cursor.execute(\"SELECT * FROM usuarios\")\n",
    "    \n",
    "    resultado = mi_cursor.fetchmany(size=2) \n",
    "    print(resultado)\n",
    "    \n",
    "    mi_cursor.close()\n",
    "    mi_conexion.close()\n",
    "except Error as e:\n",
    "    print(\"Ha ocurrido un error:\")\n",
    "    print(e)"
   ]
  },
  {
   "cell_type": "code",
   "execution_count": 23,
   "id": "857c2466-d827-428a-b1f5-b674d6c963d6",
   "metadata": {},
   "outputs": [
    {
     "name": "stdout",
     "output_type": "stream",
     "text": [
      "[('fred', 7777, 'Pinguino', 28), ('gerry', 2222, 'Halcon', 210)]\n"
     ]
    }
   ],
   "source": [
    "# Un codigo alternativo al anterior sin que genere error:\n",
    "import mysql.connector\n",
    "from mysql.connector import Error\n",
    "\n",
    "try:\n",
    "    mi_conexion = mysql.connector.connect(\n",
    "        host = 'localhost',\n",
    "        user = 'root',\n",
    "        passwd = \"\",\n",
    "        database = 'juego')\n",
    "        \n",
    "    mi_cursor = mi_conexion.cursor()\n",
    "    mi_cursor.execute(\"SELECT * FROM usuarios LIMIT 2\")\n",
    "    \n",
    "    resultado = mi_cursor.fetchall() \n",
    "    print(resultado)\n",
    "    \n",
    "    mi_cursor.close()\n",
    "    mi_conexion.close()\n",
    "except Error as e:\n",
    "    print(\"Ha ocurrido un error:\")\n",
    "    print(e)"
   ]
  },
  {
   "cell_type": "markdown",
   "id": "7520b277-7b86-406b-bc47-97119dce72be",
   "metadata": {},
   "source": [
    "# Consultas interactivas"
   ]
  },
  {
   "cell_type": "code",
   "execution_count": 26,
   "id": "527c67e3-c3c4-4965-b3d3-8838bf9f391d",
   "metadata": {},
   "outputs": [
    {
     "name": "stdin",
     "output_type": "stream",
     "text": [
      "Ingrese el usuario:  root\n",
      "ingrese la contrasena:  \n"
     ]
    },
    {
     "name": "stdout",
     "output_type": "stream",
     "text": [
      "Conexion realizada correctamente.\n",
      "Conexion finalizada correctamente\n",
      "('fred', 28)\n",
      "('gerry', 210)\n",
      "('hanna', 57)\n"
     ]
    }
   ],
   "source": [
    "import mysql.connector\n",
    "from mysql.connector import Error\n",
    "import os\n",
    "\n",
    "def conectarse_bd(usuario, contrasenia):\n",
    "    '''Conectarse a una base de datos'''\n",
    "    \n",
    "    conexion = None\n",
    "    try:\n",
    "        conexion = mysql.connector.connect(\n",
    "            host = \"localhost\",\n",
    "            user = usuario,\n",
    "            passwd = contrasenia,\n",
    "            database = \"juego\")\n",
    "        if conexion:\n",
    "            print(\"Conexion realizada correctamente.\")\n",
    "    except Error as e:\n",
    "        print(\"Ha ocurrido el siguiente error:\")\n",
    "        print(e)\n",
    "    return conexion\n",
    "\n",
    "def desconectarse(conexion):\n",
    "    '''Cerrar una conexion a un servidor MySQL'''\n",
    "    \n",
    "    if conexion:\n",
    "        conexion.close()\n",
    "        print(\"Conexion finalizada correctamente\")\n",
    "\n",
    "def consulta_puntos(conexion):\n",
    "    '''Crea consulta y devuelve el resultado'''\n",
    "    \n",
    "    resultado = None\n",
    "    try:\n",
    "        consulta = \"SELECT nombre_usuario, puntos FROM usuarios\"\n",
    "        cursor = conexion.cursor()\n",
    "        cursor.execute(consulta)\n",
    "        resultado = cursor.fetchall()\n",
    "    except Error as e:\n",
    "        print(\"Ha ocurrido el error:\")\n",
    "        print(e)\n",
    "    finally:\n",
    "        cursor.close()\n",
    "\n",
    "        return resultado\n",
    "\n",
    "# FLUJO DEL PROGRAMA\n",
    "\n",
    "usuario = input(\"Ingrese el usuario: \")\n",
    "contrasenia = input(\"ingrese la contrasena: \")\n",
    "\n",
    "conexion = conectarse_bd(usuario, contrasenia)\n",
    "\n",
    "if conexion:\n",
    "    resultado = consulta_puntos(conexion)\n",
    "    desconectarse(conexion)\n",
    "    \n",
    "    if resultado is not None:\n",
    "        for fila in resultado:\n",
    "            print(fila)"
   ]
  },
  {
   "cell_type": "code",
   "execution_count": 27,
   "id": "ad911f20-b54a-4f94-9006-277bbece0669",
   "metadata": {},
   "outputs": [
    {
     "name": "stdin",
     "output_type": "stream",
     "text": [
      "Ingrese el usuario:  root\n",
      "ingrese la contrasena:  \n"
     ]
    },
    {
     "name": "stdout",
     "output_type": "stream",
     "text": [
      "Conexion realizada correctamente.\n"
     ]
    },
    {
     "name": "stdin",
     "output_type": "stream",
     "text": [
      "Introduce el id del usuario:  7777\n"
     ]
    },
    {
     "name": "stdout",
     "output_type": "stream",
     "text": [
      "Conexion finalizada correctamente\n",
      "('fred', 28)\n",
      "('gerry', 210)\n",
      "('hanna', 57)\n"
     ]
    }
   ],
   "source": [
    "#Quiero imprimir un registro en especifico\n",
    "import mysql.connector\n",
    "from mysql.connector import Error\n",
    "import os\n",
    "\n",
    "def conectarse_bd(usuario, contrasenia):\n",
    "    '''Conectarse a una base de datos'''\n",
    "    \n",
    "    conexion = None\n",
    "    try:\n",
    "        conexion = mysql.connector.connect(\n",
    "            host = \"localhost\",\n",
    "            user = usuario,\n",
    "            passwd = contrasenia,\n",
    "            database = \"juego\")\n",
    "        if conexion:\n",
    "            print(\"Conexion realizada correctamente.\")\n",
    "    except Error as e:\n",
    "        print(\"Ha ocurrido el siguiente error:\")\n",
    "        print(e)\n",
    "    return conexion\n",
    "\n",
    "def desconectarse(conexion):\n",
    "    '''Cerrar una conexion a un servidor MySQL'''\n",
    "    \n",
    "    if conexion:\n",
    "        conexion.close()\n",
    "        print(\"Conexion finalizada correctamente\")\n",
    "\n",
    "def consulta_puntos_usuario(conexion, dato):\n",
    "    '''Crea consulta y devuelve el resultado'''\n",
    "    \n",
    "    resultado = None\n",
    "    try:\n",
    "        consulta = \"SELECT nombre_usuario, puntos FROM usuarios\"\n",
    "        cursor = conexion.cursor()\n",
    "        cursor.execute(consulta)\n",
    "        resultado = cursor.fetchall()\n",
    "    except Error as e:\n",
    "        print(\"Ha ocurrido el error:\")\n",
    "        print(e)\n",
    "    finally:\n",
    "        cursor.close()\n",
    "\n",
    "        return resultado\n",
    "\n",
    "# FLUJO DEL PROGRAMA\n",
    "\n",
    "usuario = input(\"Ingrese el usuario: \")\n",
    "contrasenia = input(\"ingrese la contrasena: \")\n",
    "\n",
    "conexion = conectarse_bd(usuario, contrasenia)\n",
    "\n",
    "if conexion:\n",
    "    dato = input(\"Introduce el id del usuario: \")\n",
    "    resultado = consulta_puntos_usuario(conexion, dato)\n",
    "    desconectarse(conexion)\n",
    "    \n",
    "    if resultado is not None:\n",
    "        for fila in resultado:\n",
    "            print(fila)"
   ]
  },
  {
   "cell_type": "markdown",
   "id": "3808470d-9b9c-454a-9e5c-8ac7ce39e39f",
   "metadata": {},
   "source": [
    "# Prevenir ataques de inyección sql"
   ]
  },
  {
   "cell_type": "markdown",
   "id": "0370ddf3-7605-4251-856c-d065daf3ccfe",
   "metadata": {},
   "source": [
    "Vamos agregar una columna al principio que corresponda al id_usuario:\n",
    "```mysql\n",
    "ALTER TABLE usuarios ADD id_usuario INT FIRST;\n",
    "\n",
    "select * from usuarios\n",
    "\n",
    "+------------+----------------+-------------+----------+--------+\n",
    "| id_usuario | nombre_usuario | contrasenia | avatar   | puntos |\n",
    "+------------+----------------+-------------+----------+--------+\n",
    "|       NULL | fred           |        7777 | Pinguino |     28 |\n",
    "|       NULL | gerry          |        2222 | Halcon   |    210 |\n",
    "|       NULL | hanna          |        3333 | pirana   |     57 |\n",
    "+------------+----------------+-------------+----------+--------+\n"
   ]
  },
  {
   "cell_type": "code",
   "execution_count": 28,
   "id": "033367ea-cc0d-4518-8140-f5794d63e530",
   "metadata": {},
   "outputs": [
    {
     "name": "stdin",
     "output_type": "stream",
     "text": [
      "Ingrese el usuario:  root\n",
      "ingrese la contrasena:  \n"
     ]
    },
    {
     "name": "stdout",
     "output_type": "stream",
     "text": [
      "Conexion realizada correctamente.\n"
     ]
    },
    {
     "name": "stdin",
     "output_type": "stream",
     "text": [
      "Introduce el id del usuario:  2\n"
     ]
    },
    {
     "name": "stdout",
     "output_type": "stream",
     "text": [
      "Conexion finalizada correctamente\n",
      "('Jhon', 100)\n"
     ]
    }
   ],
   "source": [
    "#Quiero imprimir un registro en especifico\n",
    "import mysql.connector\n",
    "from mysql.connector import Error\n",
    "import os\n",
    "\n",
    "def conectarse_bd(usuario, contrasenia):\n",
    "    '''Conectarse a una base de datos'''\n",
    "    \n",
    "    conexion = None\n",
    "    try:\n",
    "        conexion = mysql.connector.connect(\n",
    "            host = \"localhost\",\n",
    "            user = usuario,\n",
    "            passwd = contrasenia,\n",
    "            database = \"juego\")\n",
    "        if conexion:\n",
    "            print(\"Conexion realizada correctamente.\")\n",
    "    except Error as e:\n",
    "        print(\"Ha ocurrido el siguiente error:\")\n",
    "        print(e)\n",
    "    return conexion\n",
    "\n",
    "def desconectarse(conexion):\n",
    "    '''Cerrar una conexion a un servidor MySQL'''\n",
    "    \n",
    "    if conexion:\n",
    "        conexion.close()\n",
    "        print(\"Conexion finalizada correctamente\")\n",
    "\n",
    "def consulta_puntos_usuario(conexion, dato):\n",
    "    '''Crea consulta y devuelve el resultado'''\n",
    "    \n",
    "    resultado = None\n",
    "    try:\n",
    "        consulta = '''SELECT nombre_usuario, puntos\n",
    "                      FROM usuarios\n",
    "                      WHERE ID = {}'''.format(dato)\n",
    "        cursor = conexion.cursor()\n",
    "        cursor.execute(consulta)\n",
    "        resultado = cursor.fetchall()\n",
    "    except Error as e:\n",
    "        print(\"Ha ocurrido el error:\")\n",
    "        print(e)\n",
    "    finally:\n",
    "        cursor.close()\n",
    "\n",
    "        return resultado\n",
    "\n",
    "# FLUJO DEL PROGRAMA\n",
    "\n",
    "usuario = input(\"Ingrese el usuario: \")\n",
    "contrasenia = input(\"ingrese la contrasena: \")\n",
    "\n",
    "conexion = conectarse_bd(usuario, contrasenia)\n",
    "\n",
    "if conexion:\n",
    "    dato = input(\"Introduce el id del usuario: \")\n",
    "    resultado = consulta_puntos_usuario(conexion, dato)\n",
    "    desconectarse(conexion)\n",
    "    \n",
    "    if resultado is not None:\n",
    "        for fila in resultado:\n",
    "            print(fila)"
   ]
  },
  {
   "cell_type": "code",
   "execution_count": 29,
   "id": "15168805-892e-47a4-a6cd-cdae243528e5",
   "metadata": {},
   "outputs": [
    {
     "name": "stdin",
     "output_type": "stream",
     "text": [
      "Ingrese el usuario:  root\n",
      "ingrese la contrasena:  \n"
     ]
    },
    {
     "name": "stdout",
     "output_type": "stream",
     "text": [
      "Conexion realizada correctamente.\n"
     ]
    },
    {
     "name": "stdin",
     "output_type": "stream",
     "text": [
      "Introduce el id del usuario:  2\n"
     ]
    },
    {
     "name": "stdout",
     "output_type": "stream",
     "text": [
      "Conexion finalizada correctamente\n",
      "('Jhon', 100)\n"
     ]
    }
   ],
   "source": [
    "############# CONSULTAS PARAMETRIZADAS #################\n",
    "'''\n",
    "Cuando hablamos de ataques de inyecion sql quiere decir que al ejecutar los codigos anteriorres,\n",
    "desde consola pueden anexar DROP... para eliminar tablas o bases de datos enteras,\n",
    "por lo que lo mas recomendable es implementar los siguiente:\n",
    "'''\n",
    "import mysql.connector\n",
    "from mysql.connector import Error\n",
    "import os\n",
    "\n",
    "def conectarse_bd(usuario, contrasenia):\n",
    "    '''Conectarse a una base de datos'''\n",
    "    \n",
    "    conexion = None\n",
    "    try:\n",
    "        conexion = mysql.connector.connect(\n",
    "            host = \"localhost\",\n",
    "            user = usuario,\n",
    "            passwd = contrasenia,\n",
    "            database = \"juego\")\n",
    "        if conexion:\n",
    "            print(\"Conexion realizada correctamente.\")\n",
    "    except Error as e:\n",
    "        print(\"Ha ocurrido el siguiente error:\")\n",
    "        print(e)\n",
    "    return conexion\n",
    "\n",
    "def desconectarse(conexion):\n",
    "    '''Cerrar una conexion a un servidor MySQL'''\n",
    "    \n",
    "    if conexion:\n",
    "        conexion.close()\n",
    "        print(\"Conexion finalizada correctamente\")\n",
    "\n",
    "def consulta_puntos_usuario(conexion, dato):\n",
    "    '''Crea consulta y devuelve el resultado'''\n",
    "    \n",
    "    resultado = None\n",
    "    try:\n",
    "        consulta = '''SELECT nombre_usuario, puntos\n",
    "                      FROM usuarios\n",
    "                      WHERE ID = %s'''\n",
    "        cursor = conexion.cursor()\n",
    "        cursor.execute(consulta, (dato,))\n",
    "        resultado = cursor.fetchall()\n",
    "    except Error as e:\n",
    "        print(\"Ha ocurrido el error:\")\n",
    "        print(e)\n",
    "    finally:\n",
    "        cursor.close()\n",
    "\n",
    "        return resultado\n",
    "\n",
    "# FLUJO DEL PROGRAMA\n",
    "\n",
    "usuario = input(\"Ingrese el usuario: \")\n",
    "contrasenia = input(\"ingrese la contrasena: \")\n",
    "\n",
    "conexion = conectarse_bd(usuario, contrasenia)\n",
    "\n",
    "if conexion:\n",
    "    dato = input(\"Introduce el id del usuario: \")\n",
    "    resultado = consulta_puntos_usuario(conexion, dato)\n",
    "    desconectarse(conexion)\n",
    "    \n",
    "    if resultado is not None:\n",
    "        for fila in resultado:\n",
    "            print(fila)"
   ]
  },
  {
   "cell_type": "markdown",
   "id": "6fc63a65-77f2-47bd-94dd-2cc849b34870",
   "metadata": {},
   "source": [
    "# Actualizar base de datos con UPDATE desde python"
   ]
  },
  {
   "cell_type": "markdown",
   "id": "80f1cb31-f571-4ce2-b4c9-e3b4af80a3a8",
   "metadata": {},
   "source": [
    "# CYGNI"
   ]
  }
 ],
 "metadata": {
  "kernelspec": {
   "display_name": "Python 3 (ipykernel)",
   "language": "python",
   "name": "python3"
  },
  "language_info": {
   "codemirror_mode": {
    "name": "ipython",
    "version": 3
   },
   "file_extension": ".py",
   "mimetype": "text/x-python",
   "name": "python",
   "nbconvert_exporter": "python",
   "pygments_lexer": "ipython3",
   "version": "3.8.12"
  }
 },
 "nbformat": 4,
 "nbformat_minor": 5
}
