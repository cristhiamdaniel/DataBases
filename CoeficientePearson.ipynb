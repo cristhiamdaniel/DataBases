{
 "cells": [
  {
   "cell_type": "markdown",
   "id": "b2ddf7eb-ebed-4e58-9cde-4fb56215297e",
   "metadata": {},
   "source": [
    "Este coeficiente se utiliza cuando se va a comparar variables cuantitativas y continuas.\n",
    "\n",
    "\\begin{equation}\n",
    "r = \\dfrac{\\sum_{i=1}^{n}\\left ( x_i - \\bar{x} \\right )\\left ( y_i - \\bar{y} \\right )}{\\sqrt{\\sum_{i=1}^{n}\\left ( x_i - \\bar{x} \\right )^{2}\\sum_{i = 1}^{n}\\left ( y_i - \\bar{y} \\right )^{2}}}\n",
    "\\end{equation}"
   ]
  },
  {
   "cell_type": "markdown",
   "id": "d4ba507e-26ce-457c-a709-527175485bbb",
   "metadata": {},
   "source": [
    "Tenemos que $r \\in \\left [ -1,1 \\right ]$"
   ]
  },
  {
   "cell_type": "markdown",
   "id": "8c61f20d-6351-4f00-974a-932501cd1835",
   "metadata": {},
   "source": [
    "1: Relacion directa\n",
    "\n",
    "-1: Relacion inversa\n",
    "\n",
    "Si $r \\rightarrow 0$ no existe relacion lineal, aunque puede existir algun otroi tipo de relacion no lineal."
   ]
  },
  {
   "cell_type": "markdown",
   "id": "d5cd2e42-99df-48dd-b94c-ac38da6eedb9",
   "metadata": {
    "tags": []
   },
   "source": [
    "<br> Ejemplo </br>\n",
    "\n",
    "---\n",
    "En el siguiente Dataset se encuentra la cantidad de\n",
    "dinero invertido en publicidad a traves de television,\n",
    "radio y periodico.\n",
    "Ademas se tienen las ventas que trajo consigo dicha\n",
    "inversion en publicidad\n"
   ]
  },
  {
   "cell_type": "code",
   "execution_count": 1,
   "id": "a62ff006-5546-481d-a57e-dbab003a724e",
   "metadata": {},
   "outputs": [],
   "source": [
    "import pandas as pd\n",
    "import matplotlib.pyplot as plt\n",
    "\n",
    "#Cargamos el dataset\n",
    "df = pd.read_csv(\"Advertising.csv\")"
   ]
  },
  {
   "cell_type": "code",
   "execution_count": 2,
   "id": "cba62571-4b04-4149-ab6e-e361926e96b4",
   "metadata": {},
   "outputs": [
    {
     "data": {
      "text/html": [
       "<div>\n",
       "<style scoped>\n",
       "    .dataframe tbody tr th:only-of-type {\n",
       "        vertical-align: middle;\n",
       "    }\n",
       "\n",
       "    .dataframe tbody tr th {\n",
       "        vertical-align: top;\n",
       "    }\n",
       "\n",
       "    .dataframe thead th {\n",
       "        text-align: right;\n",
       "    }\n",
       "</style>\n",
       "<table border=\"1\" class=\"dataframe\">\n",
       "  <thead>\n",
       "    <tr style=\"text-align: right;\">\n",
       "      <th></th>\n",
       "      <th>Unnamed: 0</th>\n",
       "      <th>TV</th>\n",
       "      <th>Radio</th>\n",
       "      <th>Newspaper</th>\n",
       "      <th>Sales</th>\n",
       "    </tr>\n",
       "  </thead>\n",
       "  <tbody>\n",
       "    <tr>\n",
       "      <th>0</th>\n",
       "      <td>1</td>\n",
       "      <td>230.1</td>\n",
       "      <td>37.8</td>\n",
       "      <td>69.2</td>\n",
       "      <td>22.1</td>\n",
       "    </tr>\n",
       "    <tr>\n",
       "      <th>1</th>\n",
       "      <td>2</td>\n",
       "      <td>44.5</td>\n",
       "      <td>39.3</td>\n",
       "      <td>45.1</td>\n",
       "      <td>10.4</td>\n",
       "    </tr>\n",
       "    <tr>\n",
       "      <th>2</th>\n",
       "      <td>3</td>\n",
       "      <td>17.2</td>\n",
       "      <td>45.9</td>\n",
       "      <td>69.3</td>\n",
       "      <td>9.3</td>\n",
       "    </tr>\n",
       "    <tr>\n",
       "      <th>3</th>\n",
       "      <td>4</td>\n",
       "      <td>151.5</td>\n",
       "      <td>41.3</td>\n",
       "      <td>58.5</td>\n",
       "      <td>18.5</td>\n",
       "    </tr>\n",
       "    <tr>\n",
       "      <th>4</th>\n",
       "      <td>5</td>\n",
       "      <td>180.8</td>\n",
       "      <td>10.8</td>\n",
       "      <td>58.4</td>\n",
       "      <td>12.9</td>\n",
       "    </tr>\n",
       "  </tbody>\n",
       "</table>\n",
       "</div>"
      ],
      "text/plain": [
       "   Unnamed: 0     TV  Radio  Newspaper  Sales\n",
       "0           1  230.1   37.8       69.2   22.1\n",
       "1           2   44.5   39.3       45.1   10.4\n",
       "2           3   17.2   45.9       69.3    9.3\n",
       "3           4  151.5   41.3       58.5   18.5\n",
       "4           5  180.8   10.8       58.4   12.9"
      ]
     },
     "execution_count": 2,
     "metadata": {},
     "output_type": "execute_result"
    }
   ],
   "source": [
    "# Visualizamos parte del dataset\n",
    "df.head()"
   ]
  },
  {
   "cell_type": "code",
   "execution_count": 4,
   "id": "9555f56d-0511-4bba-b730-d3146bc12b99",
   "metadata": {},
   "outputs": [
    {
     "data": {
      "text/html": [
       "<div>\n",
       "<style scoped>\n",
       "    .dataframe tbody tr th:only-of-type {\n",
       "        vertical-align: middle;\n",
       "    }\n",
       "\n",
       "    .dataframe tbody tr th {\n",
       "        vertical-align: top;\n",
       "    }\n",
       "\n",
       "    .dataframe thead th {\n",
       "        text-align: right;\n",
       "    }\n",
       "</style>\n",
       "<table border=\"1\" class=\"dataframe\">\n",
       "  <thead>\n",
       "    <tr style=\"text-align: right;\">\n",
       "      <th></th>\n",
       "      <th>TV</th>\n",
       "      <th>Radio</th>\n",
       "      <th>Newspaper</th>\n",
       "      <th>Sales</th>\n",
       "    </tr>\n",
       "  </thead>\n",
       "  <tbody>\n",
       "    <tr>\n",
       "      <th>0</th>\n",
       "      <td>230.1</td>\n",
       "      <td>37.8</td>\n",
       "      <td>69.2</td>\n",
       "      <td>22.1</td>\n",
       "    </tr>\n",
       "    <tr>\n",
       "      <th>1</th>\n",
       "      <td>44.5</td>\n",
       "      <td>39.3</td>\n",
       "      <td>45.1</td>\n",
       "      <td>10.4</td>\n",
       "    </tr>\n",
       "    <tr>\n",
       "      <th>2</th>\n",
       "      <td>17.2</td>\n",
       "      <td>45.9</td>\n",
       "      <td>69.3</td>\n",
       "      <td>9.3</td>\n",
       "    </tr>\n",
       "    <tr>\n",
       "      <th>3</th>\n",
       "      <td>151.5</td>\n",
       "      <td>41.3</td>\n",
       "      <td>58.5</td>\n",
       "      <td>18.5</td>\n",
       "    </tr>\n",
       "    <tr>\n",
       "      <th>4</th>\n",
       "      <td>180.8</td>\n",
       "      <td>10.8</td>\n",
       "      <td>58.4</td>\n",
       "      <td>12.9</td>\n",
       "    </tr>\n",
       "  </tbody>\n",
       "</table>\n",
       "</div>"
      ],
      "text/plain": [
       "      TV  Radio  Newspaper  Sales\n",
       "0  230.1   37.8       69.2   22.1\n",
       "1   44.5   39.3       45.1   10.4\n",
       "2   17.2   45.9       69.3    9.3\n",
       "3  151.5   41.3       58.5   18.5\n",
       "4  180.8   10.8       58.4   12.9"
      ]
     },
     "execution_count": 4,
     "metadata": {},
     "output_type": "execute_result"
    }
   ],
   "source": [
    "# La primera columna no tiene ninguna utilidad.\n",
    "# Se elimina\n",
    "del df[\"Unnamed: 0\"]\n",
    "df.head()"
   ]
  },
  {
   "cell_type": "code",
   "execution_count": 5,
   "id": "50be12d5-45a8-4ab5-8cc7-acb894a8d328",
   "metadata": {},
   "outputs": [
    {
     "data": {
      "text/html": [
       "<div>\n",
       "<style scoped>\n",
       "    .dataframe tbody tr th:only-of-type {\n",
       "        vertical-align: middle;\n",
       "    }\n",
       "\n",
       "    .dataframe tbody tr th {\n",
       "        vertical-align: top;\n",
       "    }\n",
       "\n",
       "    .dataframe thead th {\n",
       "        text-align: right;\n",
       "    }\n",
       "</style>\n",
       "<table border=\"1\" class=\"dataframe\">\n",
       "  <thead>\n",
       "    <tr style=\"text-align: right;\">\n",
       "      <th></th>\n",
       "      <th>TV</th>\n",
       "      <th>Radio</th>\n",
       "      <th>Newspaper</th>\n",
       "      <th>Sales</th>\n",
       "    </tr>\n",
       "  </thead>\n",
       "  <tbody>\n",
       "    <tr>\n",
       "      <th>TV</th>\n",
       "      <td>1.000000</td>\n",
       "      <td>0.054809</td>\n",
       "      <td>0.056648</td>\n",
       "      <td>0.782224</td>\n",
       "    </tr>\n",
       "    <tr>\n",
       "      <th>Radio</th>\n",
       "      <td>0.054809</td>\n",
       "      <td>1.000000</td>\n",
       "      <td>0.354104</td>\n",
       "      <td>0.576223</td>\n",
       "    </tr>\n",
       "    <tr>\n",
       "      <th>Newspaper</th>\n",
       "      <td>0.056648</td>\n",
       "      <td>0.354104</td>\n",
       "      <td>1.000000</td>\n",
       "      <td>0.228299</td>\n",
       "    </tr>\n",
       "    <tr>\n",
       "      <th>Sales</th>\n",
       "      <td>0.782224</td>\n",
       "      <td>0.576223</td>\n",
       "      <td>0.228299</td>\n",
       "      <td>1.000000</td>\n",
       "    </tr>\n",
       "  </tbody>\n",
       "</table>\n",
       "</div>"
      ],
      "text/plain": [
       "                 TV     Radio  Newspaper     Sales\n",
       "TV         1.000000  0.054809   0.056648  0.782224\n",
       "Radio      0.054809  1.000000   0.354104  0.576223\n",
       "Newspaper  0.056648  0.354104   1.000000  0.228299\n",
       "Sales      0.782224  0.576223   0.228299  1.000000"
      ]
     },
     "execution_count": 5,
     "metadata": {},
     "output_type": "execute_result"
    }
   ],
   "source": [
    "# Se calcula el Coeficiente de Correlacion de Pearson\n",
    "df.corr(method=\"pearson\")"
   ]
  },
  {
   "cell_type": "code",
   "execution_count": 7,
   "id": "710d1157-8474-49df-a1f4-e5a48b0f4259",
   "metadata": {},
   "outputs": [
    {
     "data": {
      "text/plain": [
       "<matplotlib.image.AxesImage at 0x7fce896de4f0>"
      ]
     },
     "execution_count": 7,
     "metadata": {},
     "output_type": "execute_result"
    },
    {
     "data": {
      "image/png": "[encoded data removed]",
      "text/plain": [
       "<Figure size 288x288 with 1 Axes>"
      ]
     },
     "metadata": {
      "needs_background": "light"
     },
     "output_type": "display_data"
    }
   ],
   "source": [
    "# Creamos una matriz de correlacion\n",
    "plt.matshow(df.corr())"
   ]
  },
  {
   "cell_type": "markdown",
   "id": "4709351a-752e-4e0f-b76c-9569080c2d36",
   "metadata": {},
   "source": [
    "Se puede observar una relacion directa entre la inversion de publicidad en TV y las ventas."
   ]
  },
  {
   "cell_type": "code",
   "execution_count": 8,
   "id": "85a4b52c-7d8d-4a60-a318-0e12ea7488ed",
   "metadata": {},
   "outputs": [
    {
     "data": {
      "text/plain": [
       "Text(0.5, 0, 'TV')"
      ]
     },
     "execution_count": 8,
     "metadata": {},
     "output_type": "execute_result"
    },
    {
     "data": {
      "image/png": "[encoded data removed]",
      "text/plain": [
       "<Figure size 432x288 with 1 Axes>"
      ]
     },
     "metadata": {
      "needs_background": "light"
     },
     "output_type": "display_data"
    }
   ],
   "source": [
    "# Se grafica las variables ded TV y ventas\n",
    "plt.plot(df[\"TV\"],df[\"Sales\"], \"ro\")\n",
    "plt.ylabel(\"Sales\")\n",
    "plt.xlabel(\"TV\")"
   ]
  },
  {
   "cell_type": "code",
   "execution_count": 9,
   "id": "bf94c8f9-04e8-49ac-b78d-d3187870d80d",
   "metadata": {},
   "outputs": [
    {
     "data": {
      "text/plain": [
       "Text(0.5, 0, 'Newspaper')"
      ]
     },
     "execution_count": 9,
     "metadata": {},
     "output_type": "execute_result"
    },
    {
     "data": {
      "image/png": "[encoded data removed]",
      "text/plain": [
       "<Figure size 432x288 with 1 Axes>"
      ]
     },
     "metadata": {
      "needs_background": "light"
     },
     "output_type": "display_data"
    }
   ],
   "source": [
    "# Graficamos las ventas producidas en inversiones de periodico\n",
    "plt.plot(df[\"Newspaper\"],df[\"Sales\"], \"bo\")\n",
    "plt.ylabel(\"Sales\")\n",
    "plt.xlabel(\"Newspaper\")"
   ]
  },
  {
   "cell_type": "code",
   "execution_count": 10,
   "id": "6bd028a9-5db8-4c0a-9cbb-31b74ec6f228",
   "metadata": {},
   "outputs": [
    {
     "data": {
      "text/html": [
       "<style type=\"text/css\">\n",
       "#T_d0422_row0_col0, #T_d0422_row1_col1, #T_d0422_row2_col2, #T_d0422_row3_col3 {\n",
       "  background-color: #b40426;\n",
       "  color: #f1f1f1;\n",
       "}\n",
       "#T_d0422_row0_col1, #T_d0422_row0_col2, #T_d0422_row1_col0, #T_d0422_row2_col0, #T_d0422_row2_col3 {\n",
       "  background-color: #3b4cc0;\n",
       "  color: #f1f1f1;\n",
       "}\n",
       "#T_d0422_row0_col3 {\n",
       "  background-color: #f7a688;\n",
       "  color: #000000;\n",
       "}\n",
       "#T_d0422_row1_col2 {\n",
       "  background-color: #a3c2fe;\n",
       "  color: #000000;\n",
       "}\n",
       "#T_d0422_row1_col3 {\n",
       "  background-color: #cfdaea;\n",
       "  color: #000000;\n",
       "}\n",
       "#T_d0422_row2_col1 {\n",
       "  background-color: #a5c3fe;\n",
       "  color: #000000;\n",
       "}\n",
       "#T_d0422_row3_col0 {\n",
       "  background-color: #f29072;\n",
       "  color: #f1f1f1;\n",
       "}\n",
       "#T_d0422_row3_col1 {\n",
       "  background-color: #ead5c9;\n",
       "  color: #000000;\n",
       "}\n",
       "#T_d0422_row3_col2 {\n",
       "  background-color: #7597f6;\n",
       "  color: #f1f1f1;\n",
       "}\n",
       "</style>\n",
       "<table id=\"T_d0422\">\n",
       "  <thead>\n",
       "    <tr>\n",
       "      <th class=\"blank level0\" >&nbsp;</th>\n",
       "      <th id=\"T_d0422_level0_col0\" class=\"col_heading level0 col0\" >TV</th>\n",
       "      <th id=\"T_d0422_level0_col1\" class=\"col_heading level0 col1\" >Radio</th>\n",
       "      <th id=\"T_d0422_level0_col2\" class=\"col_heading level0 col2\" >Newspaper</th>\n",
       "      <th id=\"T_d0422_level0_col3\" class=\"col_heading level0 col3\" >Sales</th>\n",
       "    </tr>\n",
       "  </thead>\n",
       "  <tbody>\n",
       "    <tr>\n",
       "      <th id=\"T_d0422_level0_row0\" class=\"row_heading level0 row0\" >TV</th>\n",
       "      <td id=\"T_d0422_row0_col0\" class=\"data row0 col0\" >1.000000</td>\n",
       "      <td id=\"T_d0422_row0_col1\" class=\"data row0 col1\" >0.054809</td>\n",
       "      <td id=\"T_d0422_row0_col2\" class=\"data row0 col2\" >0.056648</td>\n",
       "      <td id=\"T_d0422_row0_col3\" class=\"data row0 col3\" >0.782224</td>\n",
       "    </tr>\n",
       "    <tr>\n",
       "      <th id=\"T_d0422_level0_row1\" class=\"row_heading level0 row1\" >Radio</th>\n",
       "      <td id=\"T_d0422_row1_col0\" class=\"data row1 col0\" >0.054809</td>\n",
       "      <td id=\"T_d0422_row1_col1\" class=\"data row1 col1\" >1.000000</td>\n",
       "      <td id=\"T_d0422_row1_col2\" class=\"data row1 col2\" >0.354104</td>\n",
       "      <td id=\"T_d0422_row1_col3\" class=\"data row1 col3\" >0.576223</td>\n",
       "    </tr>\n",
       "    <tr>\n",
       "      <th id=\"T_d0422_level0_row2\" class=\"row_heading level0 row2\" >Newspaper</th>\n",
       "      <td id=\"T_d0422_row2_col0\" class=\"data row2 col0\" >0.056648</td>\n",
       "      <td id=\"T_d0422_row2_col1\" class=\"data row2 col1\" >0.354104</td>\n",
       "      <td id=\"T_d0422_row2_col2\" class=\"data row2 col2\" >1.000000</td>\n",
       "      <td id=\"T_d0422_row2_col3\" class=\"data row2 col3\" >0.228299</td>\n",
       "    </tr>\n",
       "    <tr>\n",
       "      <th id=\"T_d0422_level0_row3\" class=\"row_heading level0 row3\" >Sales</th>\n",
       "      <td id=\"T_d0422_row3_col0\" class=\"data row3 col0\" >0.782224</td>\n",
       "      <td id=\"T_d0422_row3_col1\" class=\"data row3 col1\" >0.576223</td>\n",
       "      <td id=\"T_d0422_row3_col2\" class=\"data row3 col2\" >0.228299</td>\n",
       "      <td id=\"T_d0422_row3_col3\" class=\"data row3 col3\" >1.000000</td>\n",
       "    </tr>\n",
       "  </tbody>\n",
       "</table>\n"
      ],
      "text/plain": [
       "<pandas.io.formats.style.Styler at 0x7fce87279af0>"
      ]
     },
     "execution_count": 10,
     "metadata": {},
     "output_type": "execute_result"
    }
   ],
   "source": [
    "#Otro mapa con estilo\n",
    "corr = df.corr ()\n",
    "corr.style.background_gradient (cmap = 'coolwarm')\n"
   ]
  }
 ],
 "metadata": {
  "kernelspec": {
   "display_name": "Python 3 (ipykernel)",
   "language": "python",
   "name": "python3"
  },
  "language_info": {
   "codemirror_mode": {
    "name": "ipython",
    "version": 3
   },
   "file_extension": ".py",
   "mimetype": "text/x-python",
   "name": "python",
   "nbconvert_exporter": "python",
   "pygments_lexer": "ipython3",
   "version": "3.8.12"
  }
 },
 "nbformat": 4,
 "nbformat_minor": 5
}
